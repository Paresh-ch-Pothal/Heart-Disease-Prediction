{
 "cells": [
  {
   "cell_type": "code",
   "execution_count": 1,
   "id": "5a94837f-f010-4e72-9952-35eeaf3ac2e0",
   "metadata": {},
   "outputs": [],
   "source": [
    "import pickle\n",
    "import numpy as np"
   ]
  },
  {
   "cell_type": "code",
   "execution_count": 3,
   "id": "03d15195-0f7c-4a23-bd39-055e5d92b2b2",
   "metadata": {},
   "outputs": [],
   "source": [
    "ohe_gender=pickle.load(open(\"models/ohe_gender.pkl\",\"rb\"))\n",
    "clf=pickle.load(open(\"models/clf.pkl\",\"rb\"))"
   ]
  },
  {
   "cell_type": "code",
   "execution_count": 11,
   "id": "5d663685-4d3b-4d13-9e77-3774ef680a96",
   "metadata": {},
   "outputs": [],
   "source": [
    "# Gender age currentSmoker\tcigsPerDay\tBPMeds\tdiabetes\ttotChol\tsysBP\tdiaBP\tBMI\theartRate\tglucose\n",
    "test_input=np.array([\"Male\",45,1,6.0,0.0,0.0,190.0,110.0,72.7,27.45,72.6,98.7]).reshape(1,12)"
   ]
  },
  {
   "cell_type": "code",
   "execution_count": 13,
   "id": "501480b9-f45a-4ca4-97e1-3e4e9551b326",
   "metadata": {},
   "outputs": [
    {
     "data": {
      "text/plain": [
       "array([['Male', '45', '1', '6.0', '0.0', '0.0', '190.0', '110.0', '72.7',\n",
       "        '27.45', '72.6', '98.7']], dtype='<U32')"
      ]
     },
     "execution_count": 13,
     "metadata": {},
     "output_type": "execute_result"
    }
   ],
   "source": [
    "test_input"
   ]
  },
  {
   "cell_type": "code",
   "execution_count": 15,
   "id": "e8094636-4d37-4bb6-bc1d-556c0235db91",
   "metadata": {},
   "outputs": [
    {
     "name": "stderr",
     "output_type": "stream",
     "text": [
      "D:\\Anaconda\\Lib\\site-packages\\sklearn\\base.py:493: UserWarning: X does not have valid feature names, but OneHotEncoder was fitted with feature names\n",
      "  warnings.warn(\n"
     ]
    }
   ],
   "source": [
    "test_gender=ohe_gender.transform(test_input[:,0].reshape(1,1))"
   ]
  },
  {
   "cell_type": "code",
   "execution_count": 17,
   "id": "49da7879-df35-4b0f-9e54-67b776138a02",
   "metadata": {},
   "outputs": [
    {
     "data": {
      "text/plain": [
       "array([[0., 1.]])"
      ]
     },
     "execution_count": 17,
     "metadata": {},
     "output_type": "execute_result"
    }
   ],
   "source": [
    "test_gender"
   ]
  },
  {
   "cell_type": "code",
   "execution_count": 27,
   "id": "4d261899-a993-42e8-9957-b8fdf4a17a46",
   "metadata": {},
   "outputs": [],
   "source": [
    "test_input_trans=np.concatenate((test_input[:,[1,2,3,4,5,6,7,8,9,10,11]],test_gender),axis=1)"
   ]
  },
  {
   "cell_type": "code",
   "execution_count": 29,
   "id": "98237a04-303c-4b23-bf89-ee7ba692639a",
   "metadata": {},
   "outputs": [
    {
     "data": {
      "text/plain": [
       "(1, 13)"
      ]
     },
     "execution_count": 29,
     "metadata": {},
     "output_type": "execute_result"
    }
   ],
   "source": [
    "test_input_trans.shape"
   ]
  },
  {
   "cell_type": "code",
   "execution_count": 31,
   "id": "0337e540-3ce7-4be4-acc5-75588fa83d75",
   "metadata": {},
   "outputs": [
    {
     "data": {
      "text/plain": [
       "array([1])"
      ]
     },
     "execution_count": 31,
     "metadata": {},
     "output_type": "execute_result"
    }
   ],
   "source": [
    "clf.predict(test_input_trans)"
   ]
  },
  {
   "cell_type": "code",
   "execution_count": null,
   "id": "024920d4-f974-4eb3-ae25-199848c45611",
   "metadata": {},
   "outputs": [],
   "source": []
  }
 ],
 "metadata": {
  "kernelspec": {
   "display_name": "Python 3 (ipykernel)",
   "language": "python",
   "name": "python3"
  },
  "language_info": {
   "codemirror_mode": {
    "name": "ipython",
    "version": 3
   },
   "file_extension": ".py",
   "mimetype": "text/x-python",
   "name": "python",
   "nbconvert_exporter": "python",
   "pygments_lexer": "ipython3",
   "version": "3.12.4"
  }
 },
 "nbformat": 4,
 "nbformat_minor": 5
}
